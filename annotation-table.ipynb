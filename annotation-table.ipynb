{
 "cells": [
  {
   "cell_type": "markdown",
   "metadata": {},
   "source": [
    "# Generating the annotation table from IAW\n",
    "\n",
    "In this notebook, we will showcase how to create a table that displays annotation data and the corresponding annotated area image by using the Image Annotation Workbench (IAW) API.\n",
    "\n",
    "To get start, we need to import a few dependencies. We will use OpenCV to process images and crop the annotated areas from the original images."
   ]
  },
  {
   "cell_type": "code",
   "execution_count": null,
   "metadata": {},
   "outputs": [],
   "source": [
    "import cv2\n",
    "import numpy as np\n",
    "import requests\n",
    "import base64\n",
    "from IPython.display import display, HTML\n",
    "import pandas as pd\n",
    "import json"
   ]
  },
  {
   "cell_type": "markdown",
   "metadata": {},
   "source": [
    "In the upcoming sections of the code, we will be defining some functions that will come in handy later on."
   ]
  },
  {
   "cell_type": "code",
   "execution_count": null,
   "metadata": {},
   "outputs": [],
   "source": [
    "def load_image_from_url(url):\n",
    "    \"\"\"\n",
    "    Load an image from a URL into OpenCV.\n",
    "\n",
    "    Parameters\n",
    "    ----------\n",
    "    url : str\n",
    "        The URL of the image to load.\n",
    "\n",
    "    Returns\n",
    "    -------\n",
    "    image : numpy.ndarray\n",
    "        The image loaded into OpenCV.\n",
    "    \"\"\"\n",
    "    response = requests.get(url)\n",
    "    image = cv2.imdecode(np.frombuffer(response.content, np.uint8), cv2.IMREAD_COLOR)\n",
    "    return image\n"
   ]
  },
  {
   "cell_type": "code",
   "execution_count": null,
   "metadata": {},
   "outputs": [],
   "source": [
    "def crop_image(image, points):\n",
    "    \"\"\"\n",
    "    Crop an image using a polygon selector.\n",
    "\n",
    "    Parameters\n",
    "    ----------\n",
    "    image : numpy.ndarray\n",
    "        The image to crop.\n",
    "    points : list\n",
    "        The points of the polygon selector.\n",
    "\n",
    "    Returns\n",
    "    -------\n",
    "    cropped_image : numpy.ndarray\n",
    "        The cropped image.\n",
    "    \"\"\"\n",
    "    # Create a mask.\n",
    "    mask = np.zeros(image.shape, dtype=np.uint8)\n",
    "    roi_corners = np.array([points], dtype=np.int32)\n",
    "    channel_count = image.shape[2]\n",
    "    ignore_mask_color = (255,) * channel_count\n",
    "    cv2.fillPoly(mask, roi_corners, ignore_mask_color)\n",
    "    # Apply the mask.\n",
    "    masked_image = cv2.bitwise_and(image, mask)\n",
    "    # Crop out the blank area.\n",
    "    y, x, _ = np.where(masked_image != 0)\n",
    "    cropped_image = masked_image[np.min(y): np.max(y), np.min(x): np.max(x)]\n",
    "    return cropped_image\n"
   ]
  },
  {
   "cell_type": "code",
   "execution_count": null,
   "metadata": {},
   "outputs": [],
   "source": [
    "def image_to_html(image, max_width=None):\n",
    "    \"\"\"\n",
    "    Convert an image to HTML for display in IPython.\n",
    "\n",
    "    Parameters\n",
    "    ----------\n",
    "    image : numpy.ndarray\n",
    "        The image to convert to HTML.\n",
    "    max_width : int, optional\n",
    "        The maximum width of the image in pixels.\n",
    "\n",
    "    Returns\n",
    "    -------\n",
    "    html : str\n",
    "        The HTML to display the image in IPython.\n",
    "    \"\"\"\n",
    "    retval, buffer = cv2.imencode('.jpg', image)\n",
    "    jpg_as_text = base64.b64encode(buffer)\n",
    "    image_width = 'width:100%';\n",
    "    if max_width is not None:\n",
    "        image_width = 'max-width:{}px'.format(max_width)\n",
    "    html = '<img style=\"{}\" src=\"data:image/jpeg;base64,{}\"/>'.format(image_width, jpg_as_text.decode('utf-8'))\n",
    "    return html\n"
   ]
  },
  {
   "cell_type": "code",
   "execution_count": null,
   "metadata": {},
   "outputs": [],
   "source": [
    "def extract_polygon_points(selector):\n",
    "    \"\"\"\n",
    "    Extract the value from the 'points' attribute of the SVG polygon selector.\n",
    "\n",
    "    Parameters\n",
    "    ----------\n",
    "    selector : str\n",
    "        The SVG polygon selector. e.g. <svg><polygon points=\"137.23291015625,433.1348571777344 396.35723876953125,431.2434387207031 413.3800354003906,461.5061340332031 403.92291259765625,480.4203186035156\"></polygon></svg>\n",
    "\n",
    "    Returns\n",
    "    -------\n",
    "    points : list\n",
    "        The polygon points.\n",
    "    \"\"\"\n",
    "    selector_value = selector.split('\"')[1]\n",
    "    points = []\n",
    "    for point in selector_value.split(' '):\n",
    "        x, y = point.split(',')\n",
    "        points.append([int(float(x)), int(float(y))])\n",
    "    return points\n"
   ]
  },
  {
   "cell_type": "markdown",
   "metadata": {},
   "source": [
    "To use the IAW API, we firstly need to specify the API URL and token. The API token will be required in the `Authorization` header when sending requests."
   ]
  },
  {
   "cell_type": "code",
   "execution_count": null,
   "metadata": {},
   "outputs": [],
   "source": [
    "# The Base URL of IAW API.\n",
    "iaw_api_base = 'https://iaw-server.ardc-hdcl-sia-iaw.cloud.edu.au/api'\n",
    "# API token.\n",
    "iaw_api_token = '3|dajsYsH0Dx87OXlAWk7T5ZDRJGgCMaV5WJhgKnth32114c9a'\n",
    "\n",
    "# Set the headers\n",
    "headers = {\n",
    "    'Accept': 'application/json',\n",
    "    'Authorization': f'Bearer {iaw_api_token}'\n",
    "}"
   ]
  },
  {
   "cell_type": "markdown",
   "metadata": {},
   "source": [
    "Now we are going to make our first request to the IAW API to list all collections from the authenticated account."
   ]
  },
  {
   "cell_type": "code",
   "execution_count": null,
   "metadata": {},
   "outputs": [],
   "source": [
    "# Read all collections from the API.\n",
    "response = requests.get(f'{iaw_api_base}/collections', headers=headers)\n",
    "print(str(response.status_code) + ' ' + response.reason)\n",
    "collections = response.json()\n",
    "print(json.dumps(collections, indent=2))"
   ]
  },
  {
   "cell_type": "markdown",
   "metadata": {},
   "source": [
    "From the response data, we can see a list of collection objects from IAW. We will use the \"Image Gandhara\" collection for the demo. We need to take a note of its `id` which is `11` in this case as we need it to construct our following API calls.\n",
    "\n",
    "With the collection `id`, we will query all image sets from this collection. Note how we use the collection `id` in the request URL."
   ]
  },
  {
   "cell_type": "code",
   "execution_count": null,
   "metadata": {},
   "outputs": [],
   "source": [
    "# Read all image sets from the collection.\n",
    "response = requests.get(f'{iaw_api_base}/collections/11/image-sets', headers=headers)\n",
    "print(str(response.status_code) + ' ' + response.reason)\n",
    "image_sets = response.json()\n",
    "print(json.dumps(image_sets, indent=2))"
   ]
  },
  {
   "cell_type": "markdown",
   "metadata": {},
   "source": [
    "From the response, we can see there are a number of image sets in collection \"Image Gandhara\". We will only use the image set \"Schist Buddha Triad (year 5)\" for this demonstration. Again, we need its `id` (`31`) for our following requests.\n",
    "\n",
    "Next, we will get a list of images from the image set \"Schist Buddha Triad (year 5)\"."
   ]
  },
  {
   "cell_type": "code",
   "execution_count": null,
   "metadata": {},
   "outputs": [],
   "source": [
    "# Read all images from the image set.\n",
    "response = requests.get(f'{iaw_api_base}/image-sets/31/images', headers=headers)\n",
    "print(str(response.status_code) + ' ' + response.reason)\n",
    "images = response.json()\n",
    "print(json.dumps(images, indent=2))"
   ]
  },
  {
   "cell_type": "markdown",
   "metadata": {},
   "source": [
    "From the response, we can see there's only a single image in the image set \"Schist Buddha Triad (year 5)\". Because all annotations from IAW are based on the original size of images, we will need to load the image in its original size in our code in order to crop the annotated areas. We will use the IIIF Image API to get the basic information about the image.\n",
    "\n",
    "We can get the IIIF base URL (`iiif_url`) of the image from the response above. Then we will send a request to `info.json` of that image to get the information."
   ]
  },
  {
   "cell_type": "code",
   "execution_count": null,
   "metadata": {},
   "outputs": [],
   "source": [
    "image_data = images[0]\n",
    "image_iiif_base_url = image_data['iiif_url']\n",
    "# Read the image info.\n",
    "response = requests.get(f'{image_iiif_base_url}/info.json')\n",
    "print(str(response.status_code) + ' ' + response.reason)\n",
    "image_info = response.json()\n",
    "print(json.dumps(image_info, indent=2))"
   ]
  },
  {
   "cell_type": "markdown",
   "metadata": {},
   "source": [
    "We can then get the original `width` and `height` of the image from the response of `info.json` and load the image in its original size with IIIF Image API."
   ]
  },
  {
   "cell_type": "code",
   "execution_count": null,
   "metadata": {},
   "outputs": [],
   "source": [
    "image_width = image_info['width']\n",
    "image_height = image_info['height']\n",
    "image_url = f'{image_iiif_base_url}/full/{image_width},{image_height}/0/default.jpg'\n",
    "image = load_image_from_url(image_url)\n",
    "display(HTML(image_to_html(image)))"
   ]
  },
  {
   "cell_type": "markdown",
   "metadata": {},
   "source": [
    "Now we are going to query all annotation sets from the image set \"Schist Buddha Triad (year 5)\"."
   ]
  },
  {
   "cell_type": "code",
   "execution_count": null,
   "metadata": {},
   "outputs": [],
   "source": [
    "# Read all annotation sets from the image set.\n",
    "response = requests.get(f'{iaw_api_base}/image-sets/31/annotation-sets', headers=headers)\n",
    "print(str(response.status_code) + ' ' + response.reason)\n",
    "annotation_sets = response.json()\n",
    "print(json.dumps(annotation_sets, indent=2))"
   ]
  },
  {
   "cell_type": "markdown",
   "metadata": {},
   "source": [
    "We can see that there's only one annotation set from the response. Therefore, we call the API to get all annotations from this annotation set."
   ]
  },
  {
   "cell_type": "code",
   "execution_count": null,
   "metadata": {},
   "outputs": [],
   "source": [
    "# Read all annotations from the annotation set.\n",
    "response = requests.get(f'{iaw_api_base}/annotation-sets/26/annotations', headers=headers)\n",
    "print(str(response.status_code) + ' ' + response.reason)\n",
    "annotations = response.json()\n",
    "print(json.dumps(annotations, indent=2))"
   ]
  },
  {
   "cell_type": "markdown",
   "metadata": {},
   "source": [
    "We now have the data of all annotations. We will create a table to display our annotations. The table will have 5 columns:\n",
    "\n",
    "- Image: The image of the annotated area.\n",
    "- Title: The annotation title.\n",
    "- Tags: The tags applied to the annotaion.\n",
    "- Notes: Notes of the annotation.\n",
    "- Line Color: The line color of the annotation.\n",
    "\n",
    "<div class=\"alert alert-block alert-info\">\n",
    "<strong>Note</strong>: Due to the size of the image and the number of annotations to process, the following code block may take a minute to finish. Please wait patiently to see the final output.\n",
    "</div>"
   ]
  },
  {
   "cell_type": "code",
   "execution_count": null,
   "metadata": {},
   "outputs": [],
   "source": [
    "table_data = {\n",
    "    'Image': [],\n",
    "    'Title': [],\n",
    "    'Tags': [],\n",
    "    'Notes': [],\n",
    "    'Line Color': [],\n",
    "}\n",
    "for annotation in annotations:\n",
    "    # Crop annotation area.\n",
    "    selector = annotation['target']['selector']['value']\n",
    "    if '<polygon' in selector:\n",
    "        points = extract_polygon_points(selector)\n",
    "        cropped_image = crop_image(image, points)\n",
    "        table_data['Image'].append(image_to_html(cropped_image, 250))\n",
    "    else:\n",
    "        table_data['Image'].append('')\n",
    "    fields = annotation['fields']\n",
    "    # Annotation title.\n",
    "    if 'title' in fields:\n",
    "        table_data['Title'].append('<br>'.join(fields['title']['en']['values']))\n",
    "    else:\n",
    "        table_data['Title'].append('')\n",
    "    # Annotation tags.\n",
    "    if 'tag' in fields:\n",
    "        table_data['Tags'].append('<br>'.join([item['term_label'] for item in fields['tag']['en']['values']]))\n",
    "    else:\n",
    "        table_data['Tags'].append('')\n",
    "    # Annotation notes.\n",
    "    if 'note' in fields:\n",
    "        table_data['Notes'].append('<br>'.join(fields['note']['en']['values']))\n",
    "    else:\n",
    "        table_data['Notes'].append('')\n",
    "    # Line color.\n",
    "    if 'line_color' in fields:\n",
    "        table_data['Line Color'].append('<br>'.join(fields['line_color']['en']['values']))\n",
    "    else:\n",
    "        table_data['Line Color'].append('')\n",
    "\n",
    "# Create a DataFrame from the dictionary\n",
    "df = pd.DataFrame(table_data)\n",
    "\n",
    "# Convert the DataFrame to a HTML table\n",
    "html = df.to_html(escape=False, index=False)\n",
    "\n",
    "# Set content alignment to left\n",
    "html = html.replace('<th>', '<th style=\"text-align: left;\">')\n",
    "html = html.replace('<td>', '<td style=\"text-align: left;\">')\n",
    "\n",
    "# Display the HTML table\n",
    "display(HTML(html))\n",
    "    \n"
   ]
  }
 ],
 "metadata": {
  "kernelspec": {
   "display_name": "iaw-notebooks-Ef56pE9p",
   "language": "python",
   "name": "python3"
  },
  "language_info": {
   "codemirror_mode": {
    "name": "ipython",
    "version": 3
   },
   "file_extension": ".py",
   "mimetype": "text/x-python",
   "name": "python",
   "nbconvert_exporter": "python",
   "pygments_lexer": "ipython3",
   "version": "3.11.3"
  }
 },
 "nbformat": 4,
 "nbformat_minor": 2
}
